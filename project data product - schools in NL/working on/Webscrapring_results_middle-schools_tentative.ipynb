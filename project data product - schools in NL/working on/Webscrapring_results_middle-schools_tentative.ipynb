{
 "cells": [
  {
   "cell_type": "code",
   "execution_count": 1,
   "metadata": {},
   "outputs": [],
   "source": [
    "def percentage_passing_students_middle(dataframe):\n",
    "    passing_students = []\n",
    "    errors = []\n",
    "    driver = webdriver.Chrome(service=Service(ChromeDriverManager().install()))\n",
    "\n",
    "    try:\n",
    "        for url in dataframe['link']:\n",
    "            try:\n",
    "                driver.get('https://scholenopdekaart.nl' + url + 'resultaten/')\n",
    "                html = driver.page_source\n",
    "                soup = BeautifulSoup(html)\n",
    "                soup.find_all(attrs={'class': re.compile(r'highcharts-markers highcharts-series-0 highcharts-area-series highcharts-color-0 highcharts-tracker')})\n",
    "\n",
    "                elements = soup.findAll('g', class_='highcharts-label')\n",
    "                students_who_passed = elements[16].text.replace('%','').replace(',','.')\n",
    "\n",
    "                students_who_passed_dict = {'URL': url, 'Students_who_passed': float(students_who_passed)}\n",
    "                passing_students.append(students_who_passed_dict)\n",
    "\n",
    "            except Exception as e:\n",
    "                error_message = f\"Error occurred for URL {url}: {str(e)}\"\n",
    "                print(error_message)\n",
    "                errors.append({'URL': url, 'Error': error_message})\n",
    "\n",
    "        passing_students_df = pd.DataFrame(passing_students)\n",
    "        errors_students_df = pd.DataFrame(errors)\n",
    "        return passing_students_df, errors_students_df\n",
    "\n",
    "    except Exception as e:\n",
    "        print(f\"An error occurred: {str(e)}\")\n",
    "        return pd.DataFrame(columns=['URL', 'Percentage_passing_student']), pd.DataFrame(columns=['URL', 'Error'])"
   ]
  },
  {
   "cell_type": "code",
   "execution_count": null,
   "metadata": {},
   "outputs": [],
   "source": [
    "def avg_score_exam_middle(dataframe):\n",
    "    avg_scores = []\n",
    "    errors = []\n",
    "    driver = webdriver.Chrome(service=Service(ChromeDriverManager().install()))\n",
    "\n",
    "    try:\n",
    "        for url in dataframe['link']:\n",
    "            try:\n",
    "                driver.get('https://scholenopdekaart.nl' + url + 'resultaten/')\n",
    "                html = driver.page_source\n",
    "                soup = BeautifulSoup(html)\n",
    "                soup.find_all(attrs={'class': re.compile(r'highcharts-markers highcharts-series-0 highcharts-area-series highcharts-color-0 highcharts-tracker')})\n",
    "\n",
    "                elements = soup.findAll('g', class_='highcharts-label')\n",
    "                avg_score = elements[3].text\n",
    "                \n",
    "                avg_score_dict = {'URL': url, 'Average_exam_score': float(avg_score)}\n",
    "                avg_scores.append(avg_score_dict)\n",
    "\n",
    "            except Exception as e:\n",
    "                error_message = f\"Error occurred for URL {url}: {str(e)}\"\n",
    "                print(error_message)\n",
    "                errors.append({'URL': url, 'Error': error_message})\n",
    "\n",
    "        avg_scores_df = pd.DataFrame(avg_scores)\n",
    "        errors_scores_df = pd.DataFrame(errors)\n",
    "        return avg_scores_df, errors_scores_df\n",
    "\n",
    "    except Exception as e:\n",
    "        print(f\"An error occurred: {str(e)}\")\n",
    "        return pd.DataFrame(columns=['URL', 'Avg_score_exam']), pd.DataFrame(columns=['URL', 'Error'])"
   ]
  }
 ],
 "metadata": {
  "kernelspec": {
   "display_name": "base",
   "language": "python",
   "name": "python3"
  },
  "language_info": {
   "codemirror_mode": {
    "name": "ipython",
    "version": 3
   },
   "file_extension": ".py",
   "mimetype": "text/x-python",
   "name": "python",
   "nbconvert_exporter": "python",
   "pygments_lexer": "ipython3",
   "version": "3.11.4"
  },
  "orig_nbformat": 4
 },
 "nbformat": 4,
 "nbformat_minor": 2
}
