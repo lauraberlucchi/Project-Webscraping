{
 "cells": [
  {
   "cell_type": "code",
   "execution_count": 3,
   "id": "758da4f0",
   "metadata": {},
   "outputs": [],
   "source": [
    "import time\n",
    "\n",
    "# getpass - to input our password without showing it in the notebook\n",
    "from getpass import getpass\n",
    "\n",
    "# Juicy stuff - these are the Classes we will use for interaction with a webpage:\n",
    "from selenium import webdriver\n",
    "from selenium.webdriver.common.keys import Keys\n",
    "from selenium.webdriver.chrome.service import Service\n",
    "from selenium.webdriver.common.by import By\n",
    "from webdriver_manager.chrome import ChromeDriverManager\n",
    "from selenium.common import NoSuchElementException, ElementClickInterceptedException\n",
    "\n",
    "# libraries for interacting with the operating system (OS)\n",
    "import pathlib\n",
    "import os\n",
    "from os.path import join\n",
    "\n",
    "import pandas as pd\n",
    "import random\n",
    "import re\n",
    "from bs4 import BeautifulSoup\n",
    "import re\n",
    "\n",
    "import warnings\n",
    "warnings.filterwarnings('ignore')\n",
    "\n",
    "import numpy as np\n"
   ]
  },
  {
   "cell_type": "code",
   "execution_count": 4,
   "id": "b20dd557",
   "metadata": {},
   "outputs": [],
   "source": [
    "driver = webdriver.Chrome(service=Service(ChromeDriverManager().install()))"
   ]
  },
  {
   "cell_type": "code",
   "execution_count": 112,
   "id": "69ddfe95",
   "metadata": {},
   "outputs": [],
   "source": [
    "def get_satisfaction_information(url):\n",
    "    driver.get(url+'tevredenheid/')\n",
    "    html = driver.page_source\n",
    "    soup = BeautifulSoup(html)\n",
    "\n",
    "    #get all elements in the class\n",
    "    elements = soup.findAll('dl', class_ = 'tabs-tabpanel')\n",
    "    \n",
    "    if (len(elements)==2):\n",
    "        #get students satisfaction\n",
    "        students_satisfaction_list = elements[0].text.replace(',','.').split()\n",
    "        school_st_satisfaction = students_satisfaction_list[1]\n",
    "        other_schools_st_satisfaction = students_satisfaction_list[4]\n",
    "\n",
    "        #get parents satisfaction\n",
    "        parents_satisfaction_list = elements[1].text.split()\n",
    "        school_pa_satisfaction = parents_satisfaction_list[1].replace(',','.')\n",
    "        other_schools_pa_satisfaction = parents_satisfaction_list[4].replace(',','.')\n",
    "\n",
    "        satisfaction_dict = {'students_satisfation':float(school_st_satisfaction), 'similar_schools_students_satisfaction':float(school_st_satisfaction), 'parents_satisfaction':float(school_pa_satisfaction), 'similar_schools_parents_satisfaction':float(other_schools_pa_satisfaction)}\n",
    "    else:\n",
    "        satisfaction_dict = {}\n",
    "        \n",
    "    return satisfaction_dict"
   ]
  },
  {
   "cell_type": "code",
   "execution_count": 135,
   "id": "697d2c3b",
   "metadata": {},
   "outputs": [],
   "source": [
    "def get_staff_information(url):\n",
    "    driver.get(url+'het-onderwijs/')\n",
    "    html = driver.page_source\n",
    "    soup = BeautifulSoup(html)\n",
    "    staff_info_html = eval (soup.find('personeels-kenmerken-bar-chart', class_ = 'tabs-tabpanel chart-percentage-geslacht').get('data'))\n",
    "    for info in staff_info_html:\n",
    "        if info['beschrijving']=='Man':\n",
    "            man_staff=round(info['percentage'],2)\n",
    "        elif info['beschrijving']=='Vrouw':\n",
    "            woman_staff=round(info['percentage'],2)\n",
    "\n",
    "    staff_dist_html = eval (soup.find('personeels-kenmerken-bar-chart', class_ = 'tabs-tabpanel chart-percentage-functies').get('data'))\n",
    "    for info in staff_dist_html:\n",
    "        if info['beschrijving']=='Onderwijzend personeel':\n",
    "            teaching_staff = round(info['percentage'],2)\n",
    "        elif info['beschrijving']=='Direct ondersteunend personeel':\n",
    "            direction_staff = round(info['percentage'],2)\n",
    "            print(round(info['percentage'],2))\n",
    "        elif info['beschrijving']=='Management':\n",
    "            management_staff = round(info['percentage'],2)\n",
    "\n",
    "    staff_dict = {'man_staff':man_staff, 'woman_staff':woman_staff, 'teaching_staff':teaching_staff, 'direction_staff':direction_staff, 'management_staff':management_staff}\n",
    "\n",
    "    return staff_dict\n"
   ]
  },
  {
   "cell_type": "code",
   "execution_count": 143,
   "id": "58e2bd9d",
   "metadata": {},
   "outputs": [
    {
     "name": "stdout",
     "output_type": "stream",
     "text": [
      "[{'advies': 'vmbo-b', 'percentage': 38.8888888889, 'volgorde': 5}, {'advies': 'vmbo-k', 'percentage': 11.1111111111, 'volgorde': 7}, {'advies': 'vmbo-(g)t', 'percentage': 22.2222222222, 'volgorde': 9}, {'advies': 'havo', 'percentage': 16.6666666667, 'volgorde': 11}, {'advies': 'vwo', 'percentage': 11.1111111111, 'volgorde': 13}]\n"
     ]
    },
    {
     "data": {
      "text/plain": [
       "\"for info in advice_info_html:\\n        if info['beschrijving']=='Man':\\n            man_staff=round(info['percentage'],2)\\n        elif info['beschrijving']=='Vrouw':\\n            woman_staff=round(info['percentage'],2)\\n\\n    staff_dist_html = eval (soup.find('personeels-kenmerken-bar-chart', class_ = 'tabs-tabpanel chart-percentage-functies').get('data'))\\n    print(staff_dist_html)\\n    for info in staff_dist_html:\\n        if info['beschrijving']=='Onderwijzend personeel':\\n            teaching_staff = round(info['percentage'],2)\\n        elif info['beschrijving']=='Direct ondersteunend personeel':\\n            direction_staff = round(info['percentage'],2)\\n            print(round(info['percentage'],2))\\n        elif info['beschrijving']=='Management':\\n            management_staff = round(info['percentage'],2)\\n\\n    staff_dict = {'man_staff':man_staff, 'woman_staff':woman_staff, 'teaching_staff':teaching_staff, 'direction_staff':direction_staff, 'management_staff':management_staff}\\n\""
      ]
     },
     "execution_count": 143,
     "metadata": {},
     "output_type": "execute_result"
    }
   ],
   "source": [
    "#def get_advice_information(url): to be finished\n",
    "driver.get(url+'resultaten/')\n",
    "html = driver.page_source\n",
    "soup = BeautifulSoup(html)\n",
    "advice_info_html = eval(soup.find('schooladviezen-bar-chart', class_ = 'tabs-tabpanel').get('schooladviezen'))\n",
    "print(advice_info_html)\n",
    "for info in advice_info_html:\n",
    "        if info['beschrijving']=='Man':\n",
    "            man_staff=round(info['percentage'],2)\n",
    "        elif info['beschrijving']=='Vrouw':\n",
    "            woman_staff=round(info['percentage'],2)\n",
    "\n",
    "    staff_dist_html = eval (soup.find('personeels-kenmerken-bar-chart', class_ = 'tabs-tabpanel chart-percentage-functies').get('data'))\n",
    "    print(staff_dist_html)\n",
    "    for info in staff_dist_html:\n",
    "        if info['beschrijving']=='Onderwijzend personeel':\n",
    "            teaching_staff = round(info['percentage'],2)\n",
    "        elif info['beschrijving']=='Direct ondersteunend personeel':\n",
    "            direction_staff = round(info['percentage'],2)\n",
    "            print(round(info['percentage'],2))\n",
    "        elif info['beschrijving']=='Management':\n",
    "            management_staff = round(info['percentage'],2)\n",
    "\n",
    "    staff_dict = {'man_staff':man_staff, 'woman_staff':woman_staff, 'teaching_staff':teaching_staff, 'direction_staff':direction_staff, 'management_staff':management_staff}\n",
    "'''\n",
    "    #return staff_dict"
   ]
  },
  {
   "cell_type": "code",
   "execution_count": 136,
   "id": "7d37b076",
   "metadata": {},
   "outputs": [
    {
     "name": "stdout",
     "output_type": "stream",
     "text": [
      "[{'beschrijving': 'Man', 'percentage': 9.7826084492, 'vergelijkingsPercentage': 16.4659433198}, {'beschrijving': 'Vrouw', 'percentage': 90.2173915508, 'vergelijkingsPercentage': 83.5340566802}]\n",
      "[{'beschrijving': 'Onderwijzend personeel', 'percentage': 81.5217387079, 'vergelijkingsPercentage': 75.4876314377}, {'beschrijving': 'Direct ondersteunend personeel', 'percentage': 13.0434787116, 'vergelijkingsPercentage': 16.0806469084}, {'beschrijving': 'Management', 'percentage': 5.4347825805, 'vergelijkingsPercentage': 6.13704407}]\n",
      "13.04\n",
      "{'man_staff': 9.78, 'woman_staff': 90.22, 'teaching_staff': 81.52, 'direction_staff': 13.04, 'management_staff': 5.43}\n",
      "{'students_satisfation': 8.1, 'similar_schools_students_satisfaction': 8.1, 'parents_satisfaction': 7.3, 'similar_schools_parents_satisfaction': 7.9}\n"
     ]
    }
   ],
   "source": [
    "url = 'https://scholenopdekaart.nl/basisscholen/aadorp/11785/basisschool-de-tweeklank/'\n",
    "staff_info = get_staff_information(url)\n",
    "print(staff_info)\n",
    "satisfaction_info = get_satisfaction_information(url)\n",
    "print(satisfaction_info)"
   ]
  },
  {
   "cell_type": "code",
   "execution_count": null,
   "id": "d72d137b",
   "metadata": {},
   "outputs": [],
   "source": []
  }
 ],
 "metadata": {
  "kernelspec": {
   "display_name": "Python 3 (ipykernel)",
   "language": "python",
   "name": "python3"
  },
  "language_info": {
   "codemirror_mode": {
    "name": "ipython",
    "version": 3
   },
   "file_extension": ".py",
   "mimetype": "text/x-python",
   "name": "python",
   "nbconvert_exporter": "python",
   "pygments_lexer": "ipython3",
   "version": "3.10.9"
  }
 },
 "nbformat": 4,
 "nbformat_minor": 5
}
