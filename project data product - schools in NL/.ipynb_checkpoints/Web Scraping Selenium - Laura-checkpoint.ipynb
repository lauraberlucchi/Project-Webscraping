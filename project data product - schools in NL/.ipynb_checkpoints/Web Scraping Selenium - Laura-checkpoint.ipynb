{
 "cells": [
  {
   "cell_type": "code",
   "execution_count": 2,
   "metadata": {},
   "outputs": [],
   "source": [
    "# time - used to create breaks between requests \n",
    "import time\n",
    "\n",
    "# getpass - to input our password without showing it in the notebook\n",
    "from getpass import getpass\n",
    "\n",
    "# Juicy stuff - these are the Classes we will use for interaction with a webpage:\n",
    "from selenium import webdriver\n",
    "from selenium.webdriver.common.keys import Keys\n",
    "from selenium.webdriver.chrome.service import Service\n",
    "from selenium.webdriver.common.by import By\n",
    "from webdriver_manager.chrome import ChromeDriverManager\n",
    "from selenium.common import NoSuchElementException, ElementClickInterceptedException\n",
    "\n",
    "# libraries for interacting with the operating system (OS)\n",
    "import pathlib\n",
    "import os\n",
    "from os.path import join\n",
    "\n",
    "import pandas as pd\n",
    "import random\n",
    "import re\n",
    "from bs4 import BeautifulSoup\n",
    "\n",
    "# Ignore warning -- Some methods are going to be deprecated \n",
    "import warnings\n",
    "warnings.filterwarnings('ignore')"
   ]
  },
  {
   "cell_type": "code",
   "execution_count": 8,
   "metadata": {},
   "outputs": [],
   "source": [
    "driver = webdriver.Chrome(service=Service(ChromeDriverManager().install()))"
   ]
  },
  {
   "cell_type": "code",
   "execution_count": 9,
   "metadata": {},
   "outputs": [],
   "source": [
    "driver.get('https://scholenopdekaart.nl/')"
   ]
  },
  {
   "cell_type": "code",
   "execution_count": null,
   "metadata": {},
   "outputs": [],
   "source": []
  },
  {
   "cell_type": "code",
   "execution_count": 5,
   "metadata": {},
   "outputs": [],
   "source": [
    "# Save cookies in a pickle file\n",
    "import pickle\n",
    "\n",
    "# Create an empty folder\n",
    "cookies_dir = 'saved_cookies'\n",
    "lis_dir = os.listdir()\n",
    "\n",
    "if cookies_dir not in lis_dir:\n",
    "    os.mkdir(cookies_dir)\n",
    "else:\n",
    "    pass # os.removedirs(cookies_dir) --> to remove a directory\n",
    "\n",
    "save_location = cookies_dir + '/cookies.pkl'\n",
    "pickle.dump(driver.get_cookies() , open(save_location,\"wb\"))"
   ]
  },
  {
   "cell_type": "code",
   "execution_count": 6,
   "metadata": {},
   "outputs": [],
   "source": [
    "# Load cookies\n",
    "cookies = pickle.load(open(save_location, \"rb\"))\n",
    "for cookie in cookies:\n",
    "    driver.add_cookie(cookie)"
   ]
  },
  {
   "cell_type": "code",
   "execution_count": null,
   "metadata": {},
   "outputs": [],
   "source": []
  },
  {
   "cell_type": "code",
   "execution_count": 9,
   "metadata": {},
   "outputs": [],
   "source": [
    "search_postal_code = driver.find_element(By.ID, 'search-query')\n",
    "search_postal_code.send_keys('1382')\n",
    "time.sleep(random.random() * 3)"
   ]
  },
  {
   "cell_type": "code",
   "execution_count": 15,
   "metadata": {},
   "outputs": [],
   "source": [
    "button_search = driver.find_element(By.CLASS_NAME, 'submit')\n",
    "button_search.click()\n",
    "\n",
    "time.sleep(random.random() * 3)"
   ]
  },
  {
   "cell_type": "code",
   "execution_count": 16,
   "metadata": {},
   "outputs": [
    {
     "data": {
      "text/plain": [
       "[<h3 class=\"zoekresultaat-title\"><a href=\"/basisscholen/weesp/6802/brede-school-kors-breijer/\">Brede School Kors Breijer</a></h3>,\n",
       " <h3 class=\"zoekresultaat-title\"><a href=\"/basisscholen/weesp/25545/brede-school-weesperrijk/\">Brede School Weesperrijk</a></h3>,\n",
       " <h3 class=\"zoekresultaat-title\"><a href=\"/basisscholen/weesp/25282/jozefschool-de-nieuwe-jozef/\">Jozefschool/ De Nieuwe Jozef</a></h3>,\n",
       " <h3 class=\"zoekresultaat-title\"><a href=\"/basisscholen/amsterdam/10953/cornelis-jetses/\">Cornelis Jetses</a></h3>,\n",
       " <h3 class=\"zoekresultaat-title\"><a href=\"/basisscholen/amsterdam/10694/jan-woudsmaschool/\">Jan Woudsmaschool</a></h3>,\n",
       " <h3 class=\"zoekresultaat-title\"><a href=\"/basisscholen/weesp/6801/van-der-muelen-vastwijkschool/\">Van der Muelen- Vastwijkschool</a></h3>,\n",
       " <h3 class=\"zoekresultaat-title\"><a href=\"/basisscholen/weesp/10028/openbare-basisschool-de-triangel/\">Openbare Basisschool De Triangel</a></h3>,\n",
       " <h3 class=\"zoekresultaat-title\"><a href=\"/basisscholen/weesp/6117/basisschool-wisperweide/\">Basisschool Wisperweide</a></h3>]"
      ]
     },
     "execution_count": 16,
     "metadata": {},
     "output_type": "execute_result"
    }
   ],
   "source": [
    "html = driver.page_source\n",
    "soup = BeautifulSoup(html)\n",
    "soup.find_all(attrs={'class': re.compile(r'zoekresultaat-title')})"
   ]
  },
  {
   "cell_type": "code",
   "execution_count": null,
   "metadata": {},
   "outputs": [],
   "source": [
    "# Go to job search bar\n",
    "try:\n",
    "    school_icon = driver.find_element(By.CLASS_NAME, \"zoekresultaat-title\")\n",
    "    job_icon.click()\n",
    "    time.sleep(random.random() * 3)\n",
    "except ElementClickInterceptedException:\n",
    "    print(\"Element not displayed by JS. Try zooming in or resizing the window\")\n",
    "except Exception as e:\n",
    "    print(repr(e))\n"
   ]
  }
 ],
 "metadata": {
  "kernelspec": {
   "display_name": "Python 3 (ipykernel)",
   "language": "python",
   "name": "python3"
  },
  "language_info": {
   "codemirror_mode": {
    "name": "ipython",
    "version": 3
   },
   "file_extension": ".py",
   "mimetype": "text/x-python",
   "name": "python",
   "nbconvert_exporter": "python",
   "pygments_lexer": "ipython3",
   "version": "3.10.9"
  }
 },
 "nbformat": 4,
 "nbformat_minor": 2
}
